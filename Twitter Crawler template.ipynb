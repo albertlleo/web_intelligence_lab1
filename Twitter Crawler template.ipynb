{
 "cells": [
  {
   "cell_type": "markdown",
   "metadata": {},
   "source": [
    "## 1. Install the twitter library in python"
   ]
  },
  {
   "cell_type": "code",
   "execution_count": 1,
   "metadata": {},
   "outputs": [
    {
     "name": "stdout",
     "output_type": "stream",
     "text": [
      "Collecting tweepy\n",
      "  Downloading https://files.pythonhosted.org/packages/36/1b/2bd38043d22ade352fc3d3902cf30ce0e2f4bf285be3b304a2782a767aec/tweepy-3.8.0-py2.py3-none-any.whl\n",
      "Requirement already satisfied: PySocks>=1.5.7 in /anaconda3/lib/python3.7/site-packages (from tweepy) (1.7.1)\n",
      "Requirement already satisfied: requests>=2.11.1 in /anaconda3/lib/python3.7/site-packages (from tweepy) (2.22.0)\n",
      "Collecting requests-oauthlib>=0.7.0\n",
      "  Downloading https://files.pythonhosted.org/packages/a3/12/b92740d845ab62ea4edf04d2f4164d82532b5a0b03836d4d4e71c6f3d379/requests_oauthlib-1.3.0-py2.py3-none-any.whl\n",
      "Requirement already satisfied: six>=1.10.0 in /anaconda3/lib/python3.7/site-packages (from tweepy) (1.12.0)\n",
      "Requirement already satisfied: urllib3!=1.25.0,!=1.25.1,<1.26,>=1.21.1 in /anaconda3/lib/python3.7/site-packages (from requests>=2.11.1->tweepy) (1.24.2)\n",
      "Requirement already satisfied: certifi>=2017.4.17 in /anaconda3/lib/python3.7/site-packages (from requests>=2.11.1->tweepy) (2019.11.28)\n",
      "Requirement already satisfied: chardet<3.1.0,>=3.0.2 in /anaconda3/lib/python3.7/site-packages (from requests>=2.11.1->tweepy) (3.0.4)\n",
      "Requirement already satisfied: idna<2.9,>=2.5 in /anaconda3/lib/python3.7/site-packages (from requests>=2.11.1->tweepy) (2.8)\n",
      "Collecting oauthlib>=3.0.0\n",
      "\u001b[?25l  Downloading https://files.pythonhosted.org/packages/05/57/ce2e7a8fa7c0afb54a0581b14a65b56e62b5759dbc98e80627142b8a3704/oauthlib-3.1.0-py2.py3-none-any.whl (147kB)\n",
      "\u001b[K     |████████████████████████████████| 153kB 2.2MB/s eta 0:00:01\n",
      "\u001b[?25hInstalling collected packages: oauthlib, requests-oauthlib, tweepy\n",
      "Successfully installed oauthlib-3.1.0 requests-oauthlib-1.3.0 tweepy-3.8.0\n"
     ]
    }
   ],
   "source": [
    "!pip install tweepy"
   ]
  },
  {
   "cell_type": "markdown",
   "metadata": {},
   "source": [
    "## 2. Install library for JSON"
   ]
  },
  {
   "cell_type": "code",
   "execution_count": 2,
   "metadata": {},
   "outputs": [
    {
     "name": "stdout",
     "output_type": "stream",
     "text": [
      "Collecting simplejson\n",
      "\u001b[?25l  Downloading https://files.pythonhosted.org/packages/9b/f9/34c419bd2e00071d8899b8580c0a91970271c11e0f4a4e8a628a2ddc58ea/simplejson-3.17.0-cp37-cp37m-macosx_10_14_x86_64.whl (73kB)\n",
      "\u001b[K     |████████████████████████████████| 81kB 889kB/s eta 0:00:01\n",
      "\u001b[?25hInstalling collected packages: simplejson\n",
      "Successfully installed simplejson-3.17.0\n"
     ]
    }
   ],
   "source": [
    "!pip install simplejson"
   ]
  },
  {
   "cell_type": "markdown",
   "metadata": {},
   "source": [
    "## 3. Install sentiment analysis library"
   ]
  },
  {
   "cell_type": "code",
   "execution_count": 4,
   "metadata": {},
   "outputs": [
    {
     "name": "stdout",
     "output_type": "stream",
     "text": [
      "Collecting textblob\n",
      "\u001b[?25l  Downloading https://files.pythonhosted.org/packages/60/f0/1d9bfcc8ee6b83472ec571406bd0dd51c0e6330ff1a51b2d29861d389e85/textblob-0.15.3-py2.py3-none-any.whl (636kB)\n",
      "\u001b[K     |████████████████████████████████| 645kB 1.0MB/s eta 0:00:01\n",
      "\u001b[?25hRequirement already satisfied: nltk>=3.1 in /anaconda3/lib/python3.7/site-packages (from textblob) (3.4.5)\n",
      "Requirement already satisfied: six in /anaconda3/lib/python3.7/site-packages (from nltk>=3.1->textblob) (1.12.0)\n",
      "Installing collected packages: textblob\n",
      "Successfully installed textblob-0.15.3\n"
     ]
    }
   ],
   "source": [
    "# Whatever library you use\n",
    "!pip install textblob"
   ]
  },
  {
   "cell_type": "markdown",
   "metadata": {},
   "source": [
    "# Streaming tweets and perform some data analysis\n"
   ]
  },
  {
   "cell_type": "markdown",
   "metadata": {},
   "source": [
    "### Setting up and running a streaming crawler"
   ]
  },
  {
   "cell_type": "code",
   "execution_count": 5,
   "metadata": {},
   "outputs": [
    {
     "name": "stdout",
     "output_type": "stream",
     "text": [
      "hello ana\n",
      "Alguna política de estado o de gobierno (parecida o igual) debería ocurrírsele a nuestros gobernantes. Ojalá algún… https://t.co/hMYLmmtxnT\n",
      "hello ana\n",
      "Ay no 😥😭\n",
      "hello ana\n",
      "Haz tu Gobierno: @ seguido de la letra inicial\n",
      "\n",
      "VICEPRESIS\n",
      "Primero:  @Pepeista\n",
      "Economía: @eidergorostiza\n",
      "Social:… https://t.co/BssV7zaQde\n",
      "hello ana\n",
      "Supongamos que querés saber qué está sucediendo #hoy en #Argentina, al cumplirse 1 mes del nuevo gobierno.\n",
      "Ponés… https://t.co/AMRqCcB84J\n",
      "hello ana\n",
      "Obviamente, hay q robar...\n",
      "hello ana\n",
      "Que basura este Rubio. Deseo lo masacren en una rapiña.\n",
      "hello ana\n",
      "JAJAJAJAJAJAJAJA, se que la gente esta fatal de la cabeza, los de izquierda, derecha, centro, indepes, fachas y tod… https://t.co/EIYQ78xasx\n",
      "hello ana\n",
      "@TubinoCarlos @MartinVizcarraC ¿Son un desastre porque ya no tendrán mayoría, si es que alcanzan el porcentaje míni… https://t.co/Ow3mZanhiU\n",
      "hello ana\n",
      "@LuciaDammert Era de esperarse... cortinas de humo por parte del gobierno de Piñera,que solo buscan dilatar con la… https://t.co/zyMikZqMiP\n",
      "hello ana\n",
      "Las malas politicas interncionales, ejetcidas por el gobierno surdo comunista, caprichoso de ser antiemperialita, y… https://t.co/Bfus29UqGO\n",
      "_______ End _______\n"
     ]
    }
   ],
   "source": [
    "import tweepy\n",
    "import simplejson as json\n",
    "from tweepy import OAuthHandler\n",
    "from tweepy import Stream\n",
    "from tweepy.streaming import StreamListener\n",
    "from textblob import TextBlob\n",
    " \n",
    "#Complete with your keys \n",
    "\n",
    "consumer_key = 'aCqrloIHCuvw8rX8sON8B551T'\n",
    "consumer_secret = 'CkkLBIClzyC2w00oHOateou4wxJ2IberPKXWR8WpQEi0T5Gh2s'\n",
    "access_token = '173960222-v34xiH0gEFqXCoVvpnh3JgMp8xwVukAX61rqazBc'\n",
    "access_secret = '9ey7wPBUkPJdu2ZxaBoOUr43dmFCj2Fql1MxBCPKEoVFg'\n",
    " \n",
    "auth = OAuthHandler(consumer_key, consumer_secret)\n",
    "auth.set_access_token(access_token, access_secret)\n",
    " \n",
    "\n",
    "class MyListener(StreamListener):\n",
    "    \n",
    "    def __init__(self, api=None):\n",
    "        super(StreamListener, self).__init__()\n",
    "        self.num_tweets = 0\n",
    "\n",
    "    def on_data(self, data):\n",
    "        try:\n",
    "            with open('MyFile.json', 'a') as f:\n",
    "                if json.loads(data).get('place'):\n",
    "                    f.write(data) # This will store the whole JSON data in the file, you can perform some JSON filters\n",
    "                    twitter_text = json.loads(data)['text'] # You can also print your tweets here\n",
    "                    print(twitter_text)\n",
    "                    self.num_tweets += 1\n",
    "\n",
    "                    # Just to limit the number of tweets collected to check the \n",
    "                    # program at the beginning, then increase the limit\n",
    "                    if self.num_tweets < 10: \n",
    "                        return True\n",
    "                    else:\n",
    "                        return False\n",
    "        except BaseException as e:\n",
    "            print(\"Error on_data: %s\" % str(e))\n",
    "        return True\n",
    "\n",
    " \n",
    "    def on_error(self, status):\n",
    "        print('Error :', status.place)\n",
    "        return False\n",
    "    \n",
    "twitter_stream = Stream(auth, MyListener())\n",
    "twitter_stream.filter(track=[\"gobierno\"], languages=[\"es\"]) # Add your keywords and other filters\n",
    "\n",
    "print('_______ End _______')\n",
    "\n"
   ]
  },
  {
   "cell_type": "markdown",
   "metadata": {},
   "source": [
    "### Store the JSON data in a CSV for analysing"
   ]
  },
  {
   "cell_type": "code",
   "execution_count": 6,
   "metadata": {},
   "outputs": [],
   "source": [
    "import simplejson as json\n",
    "\n",
    "# Create the CSV file\n",
    "with open (\"MyFile.csv\", 'w', encoding ='utf-8') as csv:\n",
    "    # Write the title of the columns (features) that you want to store in the CSV file\n",
    "    csv.write('id,'+'created_at'+'text,'+'country'+'\\n')\n",
    "    \n",
    "    # Copy the data from the JSON file\n",
    "    with open('MyFile.json', 'r', encoding ='utf-8') as jsonfile:\n",
    "        for tweet in jsonfile: \n",
    "            data = json.loads(tweet)\n",
    "            \n",
    "            # The int values should be converted to strings\n",
    "            csv.write(str(data['id'])+',')\n",
    "            csv.write(str(data['created_at'])+',') \n",
    "            csv.write((str(data['text']).replace('\\n', \"\").replace(',', \"\"))+',') \n",
    "            csv.write(str(data['place']['country'])) \n",
    "            csv.write('\\n')\n",
    "            "
   ]
  },
  {
   "cell_type": "markdown",
   "metadata": {},
   "source": [
    "### Load the previous CSV into pandas"
   ]
  },
  {
   "cell_type": "code",
   "execution_count": 13,
   "metadata": {},
   "outputs": [
    {
     "data": {
      "text/html": [
       "<div>\n",
       "<style scoped>\n",
       "    .dataframe tbody tr th:only-of-type {\n",
       "        vertical-align: middle;\n",
       "    }\n",
       "\n",
       "    .dataframe tbody tr th {\n",
       "        vertical-align: top;\n",
       "    }\n",
       "\n",
       "    .dataframe thead th {\n",
       "        text-align: right;\n",
       "    }\n",
       "</style>\n",
       "<table border=\"1\" class=\"dataframe\">\n",
       "  <thead>\n",
       "    <tr style=\"text-align: right;\">\n",
       "      <th></th>\n",
       "      <th>id</th>\n",
       "      <th>created_attext</th>\n",
       "      <th>country</th>\n",
       "    </tr>\n",
       "  </thead>\n",
       "  <tbody>\n",
       "    <tr>\n",
       "      <th>1215660391851642881</th>\n",
       "      <td>Fri Jan 10 15:43:17 +0000 2020</td>\n",
       "      <td>@kathlee73732050 @bubbaprog Obama ? Sadly your...</td>\n",
       "      <td>United States</td>\n",
       "    </tr>\n",
       "    <tr>\n",
       "      <th>1215660890508447744</th>\n",
       "      <td>Fri Jan 10 15:45:16 +0000 2020</td>\n",
       "      <td>@JeffreyGuterman @realDonaldTrump Guterman You...</td>\n",
       "      <td>United States</td>\n",
       "    </tr>\n",
       "    <tr>\n",
       "      <th>1215660967301931008</th>\n",
       "      <td>Fri Jan 10 15:45:35 +0000 2020</td>\n",
       "      <td>ððð</td>\n",
       "      <td>United States</td>\n",
       "    </tr>\n",
       "    <tr>\n",
       "      <th>1215661022469443585</th>\n",
       "      <td>Fri Jan 10 15:45:48 +0000 2020</td>\n",
       "      <td>@KeepinUpWithCDJ @KathyB80962699 @chefkatebrow...</td>\n",
       "      <td>United States</td>\n",
       "    </tr>\n",
       "    <tr>\n",
       "      <th>1215661066690158592</th>\n",
       "      <td>Fri Jan 10 15:45:58 +0000 2020</td>\n",
       "      <td>Good</td>\n",
       "      <td>United States</td>\n",
       "    </tr>\n",
       "    <tr>\n",
       "      <th>1215661085262565376</th>\n",
       "      <td>Fri Jan 10 15:46:03 +0000 2020</td>\n",
       "      <td>@BernieBroStar @kurtbardella @BernieSanders @r...</td>\n",
       "      <td>United States</td>\n",
       "    </tr>\n",
       "    <tr>\n",
       "      <th>1215661103625199616</th>\n",
       "      <td>Fri Jan 10 15:46:07 +0000 2020</td>\n",
       "      <td>-----&amp;gt; Heres your sign. https://t.co/6thOl0...</td>\n",
       "      <td>United States</td>\n",
       "    </tr>\n",
       "    <tr>\n",
       "      <th>1215661104258527232</th>\n",
       "      <td>Fri Jan 10 15:46:07 +0000 2020</td>\n",
       "      <td>@mommamia1217 @Rosie Because he is the best pr...</td>\n",
       "      <td>United States</td>\n",
       "    </tr>\n",
       "    <tr>\n",
       "      <th>1215661106691076098</th>\n",
       "      <td>Fri Jan 10 15:46:08 +0000 2020</td>\n",
       "      <td>So he even fucked up his GOP Senators support?...</td>\n",
       "      <td>United States</td>\n",
       "    </tr>\n",
       "    <tr>\n",
       "      <th>1215661118611308546</th>\n",
       "      <td>Fri Jan 10 15:46:11 +0000 2020</td>\n",
       "      <td>So he attacks Iran for personal and political ...</td>\n",
       "      <td>United States</td>\n",
       "    </tr>\n",
       "    <tr>\n",
       "      <th>1215661166740926464</th>\n",
       "      <td>Fri Jan 10 15:46:22 +0000 2020</td>\n",
       "      <td>https://t.co/tiet3GQzfC</td>\n",
       "      <td>United States</td>\n",
       "    </tr>\n",
       "    <tr>\n",
       "      <th>1215661187901292544</th>\n",
       "      <td>Fri Jan 10 15:46:27 +0000 2020</td>\n",
       "      <td>can yâall believe in trumpâs america we go...</td>\n",
       "      <td>United States</td>\n",
       "    </tr>\n",
       "    <tr>\n",
       "      <th>1215661210747768847</th>\n",
       "      <td>Fri Jan 10 15:46:33 +0000 2020</td>\n",
       "      <td>Slow motion killings of political prisoners in...</td>\n",
       "      <td>United States</td>\n",
       "    </tr>\n",
       "    <tr>\n",
       "      <th>1215661218322468864</th>\n",
       "      <td>Fri Jan 10 15:46:34 +0000 2020</td>\n",
       "      <td>@secupp Shame and hypocrisy died with Trump.</td>\n",
       "      <td>United States</td>\n",
       "    </tr>\n",
       "  </tbody>\n",
       "</table>\n",
       "</div>"
      ],
      "text/plain": [
       "                                                 id  \\\n",
       "1215660391851642881  Fri Jan 10 15:43:17 +0000 2020   \n",
       "1215660890508447744  Fri Jan 10 15:45:16 +0000 2020   \n",
       "1215660967301931008  Fri Jan 10 15:45:35 +0000 2020   \n",
       "1215661022469443585  Fri Jan 10 15:45:48 +0000 2020   \n",
       "1215661066690158592  Fri Jan 10 15:45:58 +0000 2020   \n",
       "1215661085262565376  Fri Jan 10 15:46:03 +0000 2020   \n",
       "1215661103625199616  Fri Jan 10 15:46:07 +0000 2020   \n",
       "1215661104258527232  Fri Jan 10 15:46:07 +0000 2020   \n",
       "1215661106691076098  Fri Jan 10 15:46:08 +0000 2020   \n",
       "1215661118611308546  Fri Jan 10 15:46:11 +0000 2020   \n",
       "1215661166740926464  Fri Jan 10 15:46:22 +0000 2020   \n",
       "1215661187901292544  Fri Jan 10 15:46:27 +0000 2020   \n",
       "1215661210747768847  Fri Jan 10 15:46:33 +0000 2020   \n",
       "1215661218322468864  Fri Jan 10 15:46:34 +0000 2020   \n",
       "\n",
       "                                                        created_attext  \\\n",
       "1215660391851642881  @kathlee73732050 @bubbaprog Obama ? Sadly your...   \n",
       "1215660890508447744  @JeffreyGuterman @realDonaldTrump Guterman You...   \n",
       "1215660967301931008                                       ððð   \n",
       "1215661022469443585  @KeepinUpWithCDJ @KathyB80962699 @chefkatebrow...   \n",
       "1215661066690158592                                               Good   \n",
       "1215661085262565376  @BernieBroStar @kurtbardella @BernieSanders @r...   \n",
       "1215661103625199616  -----&gt; Heres your sign. https://t.co/6thOl0...   \n",
       "1215661104258527232  @mommamia1217 @Rosie Because he is the best pr...   \n",
       "1215661106691076098  So he even fucked up his GOP Senators support?...   \n",
       "1215661118611308546  So he attacks Iran for personal and political ...   \n",
       "1215661166740926464                            https://t.co/tiet3GQzfC   \n",
       "1215661187901292544  can yâall believe in trumpâs america we go...   \n",
       "1215661210747768847  Slow motion killings of political prisoners in...   \n",
       "1215661218322468864       @secupp Shame and hypocrisy died with Trump.   \n",
       "\n",
       "                           country  \n",
       "1215660391851642881  United States  \n",
       "1215660890508447744  United States  \n",
       "1215660967301931008  United States  \n",
       "1215661022469443585  United States  \n",
       "1215661066690158592  United States  \n",
       "1215661085262565376  United States  \n",
       "1215661103625199616  United States  \n",
       "1215661104258527232  United States  \n",
       "1215661106691076098  United States  \n",
       "1215661118611308546  United States  \n",
       "1215661166740926464  United States  \n",
       "1215661187901292544  United States  \n",
       "1215661210747768847  United States  \n",
       "1215661218322468864  United States  "
      ]
     },
     "execution_count": 13,
     "metadata": {},
     "output_type": "execute_result"
    }
   ],
   "source": [
    "import pandas as pd\n",
    "tweets = pd.read_csv('MyFile.csv', index_col=0, encoding='ISO-8859-1')\n",
    "tweets.head(100)"
   ]
  },
  {
   "cell_type": "markdown",
   "metadata": {},
   "source": [
    "### Analysing the polarity of the tweets"
   ]
  },
  {
   "cell_type": "code",
   "execution_count": null,
   "metadata": {},
   "outputs": [],
   "source": [
    "..."
   ]
  },
  {
   "cell_type": "markdown",
   "metadata": {},
   "source": [
    "### Generating a wordcloud"
   ]
  },
  {
   "cell_type": "code",
   "execution_count": null,
   "metadata": {},
   "outputs": [],
   "source": [
    "!pip install wordcloud"
   ]
  },
  {
   "cell_type": "code",
   "execution_count": null,
   "metadata": {},
   "outputs": [],
   "source": [
    "from wordcloud import WordCloud, STOPWORDS, ImageColorGenerator\n",
    "import matplotlib.pyplot as plt\n",
    "\n",
    "..."
   ]
  },
  {
   "cell_type": "markdown",
   "metadata": {},
   "source": [
    "### Your own analysis"
   ]
  },
  {
   "cell_type": "code",
   "execution_count": null,
   "metadata": {},
   "outputs": [],
   "source": [
    "..."
   ]
  }
 ],
 "metadata": {
  "kernelspec": {
   "display_name": "Python 3",
   "language": "python",
   "name": "python3"
  },
  "language_info": {
   "codemirror_mode": {
    "name": "ipython",
    "version": 3
   },
   "file_extension": ".py",
   "mimetype": "text/x-python",
   "name": "python",
   "nbconvert_exporter": "python",
   "pygments_lexer": "ipython3",
   "version": "3.7.3"
  }
 },
 "nbformat": 4,
 "nbformat_minor": 2
}
